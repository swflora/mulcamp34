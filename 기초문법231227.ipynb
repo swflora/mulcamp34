{
  "nbformat": 4,
  "nbformat_minor": 0,
  "metadata": {
    "colab": {
      "provenance": [],
      "authorship_tag": "ABX9TyN8ur9OBIknpUpiJ7CDC9cN",
      "include_colab_link": true
    },
    "kernelspec": {
      "name": "python3",
      "display_name": "Python 3"
    },
    "language_info": {
      "name": "python"
    }
  },
  "cells": [
    {
      "cell_type": "markdown",
      "metadata": {
        "id": "view-in-github",
        "colab_type": "text"
      },
      "source": [
        "<a href=\"https://colab.research.google.com/github/swflora/mulcamp34/blob/main/%EA%B8%B0%EC%B4%88%EB%AC%B8%EB%B2%95231227.ipynb\" target=\"_parent\"><img src=\"https://colab.research.google.com/assets/colab-badge.svg\" alt=\"Open In Colab\"/></a>"
      ]
    },
    {
      "cell_type": "markdown",
      "source": [
        "# Chapter 03. 파이썬을 계산기처럼\n",
        "\n",
        "2015~2016년 이전 : 국비 교육을 통한 취업은 java 웹개발이 기본, 안드로이드 앱 개발이 대세\n",
        "\n",
        "\n",
        "미국에선 이미 데이터 관련 이야기가 나오고 있는 상황\n",
        "\n",
        "\n",
        "2016~2017년 알파고\n",
        "\n",
        "2017~2018년 국비 교육은 R교육이 매우 많음\n",
        "-> R이 분석용으로 매우 좋음 /웹 개발용으로 넘어가면 단점 부각\n",
        "\n",
        "** 회사에 가면 여전히 수요는 웹이 높음\n",
        "\n",
        "파이썬의 가장 큰 장점 : 범용성 -> 데이터 분석, 간단한 프로그래밍, 앱 개발, 보안 관련 프로그래밍, 웹 개발, 게임 개발이 모두 가능\n",
        "\n",
        "머신러닝과 딥러닝을 업계에서 요구하기 시작하면서 파이썬이 각광받기 시작함\n",
        "\n",
        "상대적으로 R은 활용할 수 있는 범위가 매우 좁음\n"
      ],
      "metadata": {
        "id": "qnuxxSc5GhNQ"
      }
    },
    {
      "cell_type": "markdown",
      "source": [
        "## 진로 관련 팁\n",
        "데이터 분석가 : 기본 언어는 Python, 현업(의료기관)에선 R 수요 높음 -> 통계\n",
        "\n",
        "개발자 : 기본 언어는 Python, 과정 수료 후 React, Java 등 추가적인 서브 언어 학습"
      ],
      "metadata": {
        "id": "7I2mpe5nGm3H"
      }
    },
    {
      "cell_type": "markdown",
      "source": [
        "## 사칙연산\n",
        "+, -, *, /는 기본적으로 모두 제공\n",
        "\n",
        "정수 연산의 결과값은 정수로 반환\n",
        "But, 나눗셈의 정수 연산은 실수형으로 반환"
      ],
      "metadata": {
        "id": "pjCjK3-yGoOb"
      }
    },
    {
      "cell_type": "markdown",
      "source": [
        "실수연산\n",
        "\n",
        "print() 함수를 사용해야 하나의 행마다 결과를 출력\n",
        "\n",
        "함수 사용이 없을 시 마지막 라인의 결과만 출력"
      ],
      "metadata": {
        "id": "Mik8Uzo3GtL7"
      }
    },
    {
      "cell_type": "code",
      "execution_count": null,
      "metadata": {
        "id": "5NOuRiCeFyyt"
      },
      "outputs": [],
      "source": [
        "print(1.2 + 2.4)   # 덧셈\n",
        "print(3.35 - 3.1)  # 뺄셈\n",
        "print(3.5 * 3.2)   # 곱셈\n",
        "print(4.2/2.1)     # 나눗셈"
      ]
    },
    {
      "cell_type": "markdown",
      "source": [
        "### 연산규칙\n",
        "복합 연산 계산 순서\n",
        "\n",
        "1. 괄호 계산\n",
        "\n",
        "2. 지수 계산\n",
        "\n",
        "3. 곱셈, 나눗셈\n",
        "\n",
        "4. 덧셈, 뺄셈\n",
        "\n",
        "5. 같은 순위 연산의 경우 왼쪽에서 오른쪽으로 연산\n",
        "\n",
        "6. 중복된 괄호가 있을 경우 안쪽에서 바깥쪽으로 연산\n"
      ],
      "metadata": {
        "id": "PCVY_iSkGz8k"
      }
    },
    {
      "cell_type": "markdown",
      "source": [
        "## 거듭 제곱과 나머지\n",
        "숫자 A를 n번 곱하는 거듭제곱(Power)\n",
        "\n",
        "A는 밑, n을 지수라고 표현"
      ],
      "metadata": {
        "id": "jmcad6pnG3_t"
      }
    },
    {
      "cell_type": "code",
      "source": [
        "2 * 2 * 2 * 2* 2"
      ],
      "metadata": {
        "colab": {
          "base_uri": "https://localhost:8080/"
        },
        "id": "hd72TpltG7nj",
        "outputId": "e4e4ff36-fd62-4025-bf11-60b1a8be4888"
      },
      "execution_count": 1,
      "outputs": [
        {
          "output_type": "execute_result",
          "data": {
            "text/plain": [
              "32"
            ]
          },
          "metadata": {},
          "execution_count": 1
        }
      ]
    },
    {
      "cell_type": "markdown",
      "source": [
        "거듭 제곱을 표현 할 시 ** 사용"
      ],
      "metadata": {
        "id": "CW78LxW6G_vF"
      }
    },
    {
      "cell_type": "code",
      "source": [
        "2 ** 5"
      ],
      "metadata": {
        "colab": {
          "base_uri": "https://localhost:8080/"
        },
        "id": "ladFKbbeHBQI",
        "outputId": "100a75e8-e7b9-4304-ed9e-f9c121c6e5d3"
      },
      "execution_count": 2,
      "outputs": [
        {
          "output_type": "execute_result",
          "data": {
            "text/plain": [
              "32"
            ]
          },
          "metadata": {},
          "execution_count": 2
        }
      ]
    },
    {
      "cell_type": "markdown",
      "source": [
        "나머지를 구하는 방법"
      ],
      "metadata": {
        "id": "m14Og9kOHFbD"
      }
    },
    {
      "cell_type": "code",
      "source": [
        "13 % 5"
      ],
      "metadata": {
        "id": "cMElAk2hHGGO"
      },
      "execution_count": null,
      "outputs": []
    },
    {
      "cell_type": "markdown",
      "source": [
        "몫을 구하고 싶을 경우"
      ],
      "metadata": {
        "id": "jTzdk1mgHIyG"
      }
    },
    {
      "cell_type": "code",
      "source": [
        "13 // 5"
      ],
      "metadata": {
        "colab": {
          "base_uri": "https://localhost:8080/"
        },
        "id": "fnQN2gsOHKjm",
        "outputId": "924eb501-1fc8-4611-885f-b64037f2dd13"
      },
      "execution_count": 3,
      "outputs": [
        {
          "output_type": "execute_result",
          "data": {
            "text/plain": [
              "2"
            ]
          },
          "metadata": {},
          "execution_count": 3
        }
      ]
    },
    {
      "cell_type": "markdown",
      "source": [
        "교재 표 3-1(p34), 산술 연산자 표 정리"
      ],
      "metadata": {
        "id": "OsB7LMrcHOzd"
      }
    },
    {
      "cell_type": "markdown",
      "source": [
        "## 과학적 표기법(scientific notation)\n",
        "아주 큰 수, 작은 수를 다뤄야하는 케이스\n",
        "\n",
        "빛은 초당 30만km\n",
        "단위를 m/s로 표현하면 300,000,000m/s\n",
        "\n",
        "3x10^8로 표현 가능"
      ],
      "metadata": {
        "id": "CiYpJhqFHPYt"
      }
    },
    {
      "cell_type": "code",
      "source": [
        "3 * 10 ** 8"
      ],
      "metadata": {
        "colab": {
          "base_uri": "https://localhost:8080/"
        },
        "id": "vIrmt2ZdHT0-",
        "outputId": "9a3e3675-d0ab-4196-8b2a-f06df26ccb8e"
      },
      "execution_count": 4,
      "outputs": [
        {
          "output_type": "execute_result",
          "data": {
            "text/plain": [
              "300000000"
            ]
          },
          "metadata": {},
          "execution_count": 4
        }
      ]
    },
    {
      "cell_type": "markdown",
      "source": [
        "e를 사용하여 표현도 가능"
      ],
      "metadata": {
        "id": "TxOO5emnHXpm"
      }
    },
    {
      "cell_type": "code",
      "source": [
        "3e8"
      ],
      "metadata": {
        "colab": {
          "base_uri": "https://localhost:8080/"
        },
        "id": "om-rI7o2HYOV",
        "outputId": "e3a2de4b-3550-45fc-933b-22ec12ee000a"
      },
      "execution_count": 5,
      "outputs": [
        {
          "output_type": "execute_result",
          "data": {
            "text/plain": [
              "300000000.0"
            ]
          },
          "metadata": {},
          "execution_count": 5
        }
      ]
    },
    {
      "cell_type": "markdown",
      "source": [
        "소수점 아랫 자리도 표현 가능"
      ],
      "metadata": {
        "id": "gszjsXmKHaPv"
      }
    },
    {
      "cell_type": "code",
      "source": [
        "3e-4"
      ],
      "metadata": {
        "colab": {
          "base_uri": "https://localhost:8080/"
        },
        "id": "JCaZgUEYHeFO",
        "outputId": "ff82903a-d91f-4e6b-d8a3-6ca3dcb0bbb3"
      },
      "execution_count": 6,
      "outputs": [
        {
          "output_type": "execute_result",
          "data": {
            "text/plain": [
              "0.0003"
            ]
          },
          "metadata": {},
          "execution_count": 6
        }
      ]
    },
    {
      "cell_type": "markdown",
      "source": [
        "## 진수표현과 변환\n",
        "일반적으로 일상생활에선 10진법을 사용\n",
        "\n",
        "프로그램은 주로 숫자 0과 1로 이루어진 2진법 사용\n",
        "\n",
        "8진법 : 0~7까지의 숫자\n",
        "\n",
        "16진법 : 0~9까지의 숫자, a,b,c,d,e,f 까지 사용\n",
        "\n",
        "[변환 매서드]\n",
        "\n",
        "bin() : 10진수를 2진수로 변환\n",
        "\n",
        "oct() : 10진수를 8진수로 변환\n",
        "\n",
        "hex() : 10진수롤 16진수로 변환"
      ],
      "metadata": {
        "id": "YS0jf7axHiym"
      }
    },
    {
      "cell_type": "code",
      "source": [
        "0b10001   # 2진법"
      ],
      "metadata": {
        "colab": {
          "base_uri": "https://localhost:8080/"
        },
        "id": "733yf4-7Hlou",
        "outputId": "191d3a12-05de-48d0-f154-c7ad61afb18d"
      },
      "execution_count": 7,
      "outputs": [
        {
          "output_type": "execute_result",
          "data": {
            "text/plain": [
              "17"
            ]
          },
          "metadata": {},
          "execution_count": 7
        }
      ]
    },
    {
      "cell_type": "code",
      "source": [
        "0o21  # 8진법"
      ],
      "metadata": {
        "colab": {
          "base_uri": "https://localhost:8080/"
        },
        "id": "Zu6AswOaHnya",
        "outputId": "e64bb33b-d539-4d8c-ff3a-945dca396ce5"
      },
      "execution_count": 8,
      "outputs": [
        {
          "output_type": "execute_result",
          "data": {
            "text/plain": [
              "17"
            ]
          },
          "metadata": {},
          "execution_count": 8
        }
      ]
    },
    {
      "cell_type": "code",
      "source": [
        "0x11  # 16진법"
      ],
      "metadata": {
        "colab": {
          "base_uri": "https://localhost:8080/"
        },
        "id": "-i5m1ajHHqMf",
        "outputId": "bf8f70ad-ad33-473e-fdf8-f0264066efa9"
      },
      "execution_count": 9,
      "outputs": [
        {
          "output_type": "execute_result",
          "data": {
            "text/plain": [
              "17"
            ]
          },
          "metadata": {},
          "execution_count": 9
        }
      ]
    },
    {
      "cell_type": "markdown",
      "source": [
        "## 논리연산 및 비교연산\n",
        "논리 연산은 참과 거짓을 판단하는 연산\n",
        "\n",
        "논리 연산의 활용이 프로그래밍의 핵심"
      ],
      "metadata": {
        "id": "Kq0a_c1-HtEr"
      }
    },
    {
      "cell_type": "markdown",
      "source": [
        "### 논리 연산자\n",
        "and:A and B -> A와 B 모두 참일 때 참\n",
        "\n",
        "or:A or B -> A와 B 중 하나라도 참이면 참, 둘 다 거짓이면 거짓\n",
        "\n",
        "not: not A -> A가 참일 때 거짓, A가 거짓이면 참\n",
        "\n",
        "원하는 true 또는 false 결과가 나오도록 의도적으로 조건식을 만들 줄 알아야함"
      ],
      "metadata": {
        "id": "I0RG6JLdHt3G"
      }
    },
    {
      "cell_type": "markdown",
      "source": [
        "### 비교 연산자\n",
        "비교 연산자를 활용하여 조건식을 만들고 논리 연산을 활용\n",
        "\n",
        "a == b : a와 b는 같다.\n",
        "\n",
        "a != b: a와 b는 같지 않다.\n",
        "\n",
        "a <= b : a는 b보다 작거나 같다.\n",
        "\n",
        "a < b : a는 b보다 작다.\n",
        "\n",
        "비교 연산자는 논리 연산자보다 높은 순위로 계산"
      ],
      "metadata": {
        "id": "_FVkECKDHyDN"
      }
    },
    {
      "cell_type": "code",
      "source": [
        "1 > 0 and -2 < 0"
      ],
      "metadata": {
        "colab": {
          "base_uri": "https://localhost:8080/"
        },
        "id": "E8ZgW4UuH1kF",
        "outputId": "1ac7d0fe-cde6-4888-e08e-a592d1f0d314"
      },
      "execution_count": 10,
      "outputs": [
        {
          "output_type": "execute_result",
          "data": {
            "text/plain": [
              "True"
            ]
          },
          "metadata": {},
          "execution_count": 10
        }
      ]
    },
    {
      "cell_type": "markdown",
      "source": [
        "# Chapter 04. 변수와 자료형\n",
        "파이썬에서 자료형을 확인하는 방법 : type() 함수\n",
        "\n",
        "함수 : 특정 기능을 수행하도록 만든 매직 박스\n",
        "\n",
        "특정 함수를 조건만 맞춰주면 동작\n",
        "\n",
        "[함수의 종류]\n",
        "\n",
        "1. 내장 함수(built-in) 함수 : 파이썬 설치와 함께 제공하는 기본적인 함수\n",
        "- Documentaion : 함수를 설명해주는 문서\n",
        "2. 라이브러리 or 패키지 에서 제공하는 함수 : 별도 설치하여 사용하는 함수\n",
        "\n",
        "파이썬은 객체 지향 언어\n",
        "\n"
      ],
      "metadata": {
        "id": "iKljgg_RIBsr"
      }
    }
  ]
}