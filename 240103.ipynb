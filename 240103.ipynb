{
  "nbformat": 4,
  "nbformat_minor": 0,
  "metadata": {
    "colab": {
      "provenance": [],
      "authorship_tag": "ABX9TyP5Ls029o0aHEFvVfKJ2QJx",
      "include_colab_link": true
    },
    "kernelspec": {
      "name": "python3",
      "display_name": "Python 3"
    },
    "language_info": {
      "name": "python"
    }
  },
  "cells": [
    {
      "cell_type": "markdown",
      "metadata": {
        "id": "view-in-github",
        "colab_type": "text"
      },
      "source": [
        "<a href=\"https://colab.research.google.com/github/swflora/mulcamp34/blob/main/240103.ipynb\" target=\"_parent\"><img src=\"https://colab.research.google.com/assets/colab-badge.svg\" alt=\"Open In Colab\"/></a>"
      ]
    },
    {
      "cell_type": "code",
      "execution_count": 3,
      "metadata": {
        "colab": {
          "base_uri": "https://localhost:8080/",
          "height": 140
        },
        "id": "-QKa81zr3FzM",
        "outputId": "5915aadc-28cd-4403-fb41-f4a90cf79168"
      },
      "outputs": [
        {
          "output_type": "error",
          "ename": "SyntaxError",
          "evalue": "ignored",
          "traceback": [
            "\u001b[0;36m  File \u001b[0;32m\"<ipython-input-3-d51b713eeb40>\"\u001b[0;36m, line \u001b[0;32m11\u001b[0m\n\u001b[0;31m    jupyter lab\u001b[0m\n\u001b[0m            ^\u001b[0m\n\u001b[0;31mSyntaxError\u001b[0m\u001b[0;31m:\u001b[0m invalid syntax\n"
          ]
        }
      ],
      "source": [
        "#_*_coning: utf-8 _*_\n",
        "\n",
        "import numpy as np\n",
        "def main() :\n",
        "  print(np.__version__)\n",
        "  print(\"hello 가상환경\")\n",
        "\n",
        "if __name__ == \"__main__\" :\n",
        "  main()\n",
        "\n",
        "jupyter lab\n",
        "\n"
      ]
    },
    {
      "cell_type": "markdown",
      "source": [
        "## Numpy\n",
        "선형 대수, 행렬 수치 연산과 관련된 라이브러리\n",
        "\n",
        "Numpy 기반 -> 통계, 머신러닝등을 학습\n"
      ],
      "metadata": {
        "id": "OTU5v5_w4teN"
      }
    },
    {
      "cell_type": "code",
      "source": [
        "import numpy as np #Numpy 라이브러리를 불러오기\n",
        "\n",
        "print(np.__version__)"
      ],
      "metadata": {
        "colab": {
          "base_uri": "https://localhost:8080/"
        },
        "id": "uT_jsi_d5o7K",
        "outputId": "5add44d3-31fb-4e1a-ad67-29cadfa07d56"
      },
      "execution_count": 4,
      "outputs": [
        {
          "output_type": "stream",
          "name": "stdout",
          "text": [
            "1.23.5\n"
          ]
        }
      ]
    },
    {
      "cell_type": "code",
      "source": [
        "num1 = [1,2,3,4]\n",
        "num2 = [3,4,5,6]\n",
        "\n",
        "num1 + num2"
      ],
      "metadata": {
        "colab": {
          "base_uri": "https://localhost:8080/"
        },
        "id": "mP_UbqkH8D2c",
        "outputId": "889b63b1-ca36-47c2-978a-b5ba24dfa251"
      },
      "execution_count": 5,
      "outputs": [
        {
          "output_type": "execute_result",
          "data": {
            "text/plain": [
              "[1, 2, 3, 4, 3, 4, 5, 6]"
            ]
          },
          "metadata": {},
          "execution_count": 5
        }
      ]
    },
    {
      "cell_type": "code",
      "source": [
        "arr1 = np.array(num1)\n",
        "arr2 = np.array(num2)\n",
        "arr1"
      ],
      "metadata": {
        "colab": {
          "base_uri": "https://localhost:8080/"
        },
        "id": "aTc-298w8I6d",
        "outputId": "76ea7851-888a-4c72-adba-f9c11b1338f1"
      },
      "execution_count": 6,
      "outputs": [
        {
          "output_type": "execute_result",
          "data": {
            "text/plain": [
              "array([1, 2, 3, 4])"
            ]
          },
          "metadata": {},
          "execution_count": 6
        }
      ]
    },
    {
      "cell_type": "code",
      "source": [
        "arr1 + arr2"
      ],
      "metadata": {
        "colab": {
          "base_uri": "https://localhost:8080/"
        },
        "id": "lBv4Vao48QPp",
        "outputId": "a8e276ab-4743-48d9-eb93-d9db4c15db83"
      },
      "execution_count": 7,
      "outputs": [
        {
          "output_type": "execute_result",
          "data": {
            "text/plain": [
              "array([ 4,  6,  8, 10])"
            ]
          },
          "metadata": {},
          "execution_count": 7
        }
      ]
    },
    {
      "cell_type": "code",
      "source": [
        "data1 = [0,1,2,3,4,5]\n",
        "a1 = np.array(data1)\n",
        "a1"
      ],
      "metadata": {
        "colab": {
          "base_uri": "https://localhost:8080/"
        },
        "id": "F9OvpIje-Hj0",
        "outputId": "76dcf643-2f72-4ab3-a4bf-af2e3e69a710"
      },
      "execution_count": 8,
      "outputs": [
        {
          "output_type": "execute_result",
          "data": {
            "text/plain": [
              "array([0, 1, 2, 3, 4, 5])"
            ]
          },
          "metadata": {},
          "execution_count": 8
        }
      ]
    },
    {
      "cell_type": "code",
      "source": [
        "a1.dtype # Python -> int, Numpy -> int8, int16, int32, int64\n",
        "# 메모리 관리를 위해"
      ],
      "metadata": {
        "colab": {
          "base_uri": "https://localhost:8080/"
        },
        "id": "YCmPZc2s-PN2",
        "outputId": "30758283-0b2b-4228-ea14-96b33d6ccc77"
      },
      "execution_count": 9,
      "outputs": [
        {
          "output_type": "execute_result",
          "data": {
            "text/plain": [
              "dtype('int64')"
            ]
          },
          "metadata": {},
          "execution_count": 9
        }
      ]
    },
    {
      "cell_type": "code",
      "source": [
        "np.array([0.5,2,0.01,8]).dtype"
      ],
      "metadata": {
        "colab": {
          "base_uri": "https://localhost:8080/"
        },
        "id": "wzFMHfus-vOt",
        "outputId": "290c7856-a7ff-48eb-e25a-bb1d3d0bd526"
      },
      "execution_count": 10,
      "outputs": [
        {
          "output_type": "execute_result",
          "data": {
            "text/plain": [
              "dtype('float64')"
            ]
          },
          "metadata": {},
          "execution_count": 10
        }
      ]
    },
    {
      "cell_type": "markdown",
      "source": [
        "## Numpy 배열 생성\n",
        "1차원,2차원,3차원,.. 배열 생성"
      ],
      "metadata": {
        "id": "5_y1eJ6jDvUM"
      }
    },
    {
      "cell_type": "code",
      "source": [
        "np.arange(0,10,2)"
      ],
      "metadata": {
        "colab": {
          "base_uri": "https://localhost:8080/"
        },
        "id": "4qHdYa3ID1o3",
        "outputId": "6b25ac87-3dad-4cad-a36c-5a1dceb8af98"
      },
      "execution_count": 11,
      "outputs": [
        {
          "output_type": "execute_result",
          "data": {
            "text/plain": [
              "array([0, 2, 4, 6, 8])"
            ]
          },
          "metadata": {},
          "execution_count": 11
        }
      ]
    },
    {
      "cell_type": "code",
      "source": [
        "np.arange(1,10)"
      ],
      "metadata": {
        "colab": {
          "base_uri": "https://localhost:8080/"
        },
        "id": "Fyuo2QZrEEHK",
        "outputId": "57a60cb3-ea6e-46eb-fa2f-0df236666abd"
      },
      "execution_count": 12,
      "outputs": [
        {
          "output_type": "execute_result",
          "data": {
            "text/plain": [
              "array([1, 2, 3, 4, 5, 6, 7, 8, 9])"
            ]
          },
          "metadata": {},
          "execution_count": 12
        }
      ]
    },
    {
      "cell_type": "code",
      "source": [
        "np.arange(10) # 1차원, 2차원, 3차원으로 변경"
      ],
      "metadata": {
        "colab": {
          "base_uri": "https://localhost:8080/"
        },
        "id": "fvHCTxL3EHsf",
        "outputId": "e681ca20-e343-4994-9c90-374a752b9eae"
      },
      "execution_count": 13,
      "outputs": [
        {
          "output_type": "execute_result",
          "data": {
            "text/plain": [
              "array([0, 1, 2, 3, 4, 5, 6, 7, 8, 9])"
            ]
          },
          "metadata": {},
          "execution_count": 13
        }
      ]
    },
    {
      "cell_type": "code",
      "source": [
        "np.arange(12).reshape(4,3)"
      ],
      "metadata": {
        "colab": {
          "base_uri": "https://localhost:8080/"
        },
        "id": "02SiANlUEjwU",
        "outputId": "34dda674-9ffe-43b5-a5af-a97fb15976d7"
      },
      "execution_count": 14,
      "outputs": [
        {
          "output_type": "execute_result",
          "data": {
            "text/plain": [
              "array([[ 0,  1,  2],\n",
              "       [ 3,  4,  5],\n",
              "       [ 6,  7,  8],\n",
              "       [ 9, 10, 11]])"
            ]
          },
          "metadata": {},
          "execution_count": 14
        }
      ]
    },
    {
      "cell_type": "code",
      "source": [
        "np.arange(12).reshape(4,5)  # arange의 사이즈를 초과하게는 만들지 못함"
      ],
      "metadata": {
        "colab": {
          "base_uri": "https://localhost:8080/",
          "height": 174
        },
        "id": "dUDR5ANsEsdW",
        "outputId": "6f356181-0abf-44e1-f6bd-1d6e365ab139"
      },
      "execution_count": 16,
      "outputs": [
        {
          "output_type": "error",
          "ename": "ValueError",
          "evalue": "ignored",
          "traceback": [
            "\u001b[0;31m---------------------------------------------------------------------------\u001b[0m",
            "\u001b[0;31mValueError\u001b[0m                                Traceback (most recent call last)",
            "\u001b[0;32m<ipython-input-16-46526391333e>\u001b[0m in \u001b[0;36m<cell line: 1>\u001b[0;34m()\u001b[0m\n\u001b[0;32m----> 1\u001b[0;31m \u001b[0mnp\u001b[0m\u001b[0;34m.\u001b[0m\u001b[0marange\u001b[0m\u001b[0;34m(\u001b[0m\u001b[0;36m12\u001b[0m\u001b[0;34m)\u001b[0m\u001b[0;34m.\u001b[0m\u001b[0mreshape\u001b[0m\u001b[0;34m(\u001b[0m\u001b[0;36m4\u001b[0m\u001b[0;34m,\u001b[0m\u001b[0;36m5\u001b[0m\u001b[0;34m)\u001b[0m  \u001b[0;31m# arange의 사이즈를 초과하게는 만들지 못함\u001b[0m\u001b[0;34m\u001b[0m\u001b[0;34m\u001b[0m\u001b[0m\n\u001b[0m",
            "\u001b[0;31mValueError\u001b[0m: cannot reshape array of size 12 into shape (4,5)"
          ]
        }
      ]
    },
    {
      "cell_type": "code",
      "source": [
        "np.arange(12).reshape(2,2,3)"
      ],
      "metadata": {
        "colab": {
          "base_uri": "https://localhost:8080/"
        },
        "id": "8eRMybRKFKjA",
        "outputId": "d23b72b8-7d75-4f26-986d-b8b3064f2c38"
      },
      "execution_count": 17,
      "outputs": [
        {
          "output_type": "execute_result",
          "data": {
            "text/plain": [
              "array([[[ 0,  1,  2],\n",
              "        [ 3,  4,  5]],\n",
              "\n",
              "       [[ 6,  7,  8],\n",
              "        [ 9, 10, 11]]])"
            ]
          },
          "metadata": {},
          "execution_count": 17
        }
      ]
    },
    {
      "cell_type": "code",
      "source": [
        "b2 = np.arange(5) # 1차원 배열\n",
        "b2.shape"
      ],
      "metadata": {
        "colab": {
          "base_uri": "https://localhost:8080/"
        },
        "id": "JxqC_darGRmS",
        "outputId": "4bc1a736-de63-4e5e-9e82-f1668b20ce56"
      },
      "execution_count": 18,
      "outputs": [
        {
          "output_type": "execute_result",
          "data": {
            "text/plain": [
              "(5,)"
            ]
          },
          "metadata": {},
          "execution_count": 18
        }
      ]
    },
    {
      "cell_type": "markdown",
      "source": [
        "### 배열 생성\n",
        "범위의 시작과 끝 정하기"
      ],
      "metadata": {
        "id": "sHb1TCnBGe6P"
      }
    },
    {
      "cell_type": "code",
      "source": [
        "np.linspace(0,10,5) # 0과 10사이에 숫자가 5개가 들어가게 생성\n",
        "# 균등하게 생성됨"
      ],
      "metadata": {
        "colab": {
          "base_uri": "https://localhost:8080/"
        },
        "id": "SUMO8loUGdQi",
        "outputId": "b52e12e0-a354-4857-ba5e-ea5cd2f90350"
      },
      "execution_count": 19,
      "outputs": [
        {
          "output_type": "execute_result",
          "data": {
            "text/plain": [
              "array([ 0. ,  2.5,  5. ,  7.5, 10. ])"
            ]
          },
          "metadata": {},
          "execution_count": 19
        }
      ]
    },
    {
      "cell_type": "code",
      "source": [
        "np.linspace(0,np.pi,20) # np.pi는 pi(3.14)"
      ],
      "metadata": {
        "colab": {
          "base_uri": "https://localhost:8080/"
        },
        "id": "iGS0OlEHHBwd",
        "outputId": "d1827ebd-5eff-4469-93a8-fc731c4bf03e"
      },
      "execution_count": 20,
      "outputs": [
        {
          "output_type": "execute_result",
          "data": {
            "text/plain": [
              "array([0.        , 0.16534698, 0.33069396, 0.49604095, 0.66138793,\n",
              "       0.82673491, 0.99208189, 1.15742887, 1.32277585, 1.48812284,\n",
              "       1.65346982, 1.8188168 , 1.98416378, 2.14951076, 2.31485774,\n",
              "       2.48020473, 2.64555171, 2.81089869, 2.97624567, 3.14159265])"
            ]
          },
          "metadata": {},
          "execution_count": 20
        }
      ]
    },
    {
      "cell_type": "code",
      "source": [
        "np.zeros(10)"
      ],
      "metadata": {
        "colab": {
          "base_uri": "https://localhost:8080/"
        },
        "id": "F6u5Qvq6Hi_2",
        "outputId": "2ca424c2-71fd-4173-927b-8a98e74c7d9d"
      },
      "execution_count": 21,
      "outputs": [
        {
          "output_type": "execute_result",
          "data": {
            "text/plain": [
              "array([0., 0., 0., 0., 0., 0., 0., 0., 0., 0.])"
            ]
          },
          "metadata": {},
          "execution_count": 21
        }
      ]
    },
    {
      "cell_type": "code",
      "source": [
        "np.zeros((2,2))"
      ],
      "metadata": {
        "colab": {
          "base_uri": "https://localhost:8080/"
        },
        "id": "IvDZdGXeHlYf",
        "outputId": "376a277a-d796-4992-9b00-ec9880229eaa"
      },
      "execution_count": 22,
      "outputs": [
        {
          "output_type": "execute_result",
          "data": {
            "text/plain": [
              "array([[0., 0.],\n",
              "       [0., 0.]])"
            ]
          },
          "metadata": {},
          "execution_count": 22
        }
      ]
    },
    {
      "cell_type": "code",
      "source": [
        "np.ones(10)"
      ],
      "metadata": {
        "colab": {
          "base_uri": "https://localhost:8080/"
        },
        "id": "IKoIB0FTHqij",
        "outputId": "5d1c49e5-baed-4a3c-8e21-bcba6c93237b"
      },
      "execution_count": 23,
      "outputs": [
        {
          "output_type": "execute_result",
          "data": {
            "text/plain": [
              "array([1., 1., 1., 1., 1., 1., 1., 1., 1., 1.])"
            ]
          },
          "metadata": {},
          "execution_count": 23
        }
      ]
    },
    {
      "cell_type": "code",
      "source": [
        "np.ones((2,2))"
      ],
      "metadata": {
        "colab": {
          "base_uri": "https://localhost:8080/"
        },
        "id": "jE2U7opRHsYd",
        "outputId": "6d1afbf9-3c2b-4485-be82-2ef907269a48"
      },
      "execution_count": 24,
      "outputs": [
        {
          "output_type": "execute_result",
          "data": {
            "text/plain": [
              "array([[1., 1.],\n",
              "       [1., 1.]])"
            ]
          },
          "metadata": {},
          "execution_count": 24
        }
      ]
    },
    {
      "cell_type": "markdown",
      "source": [
        "## 단위 행렬"
      ],
      "metadata": {
        "id": "NfCLUve-HwFf"
      }
    },
    {
      "cell_type": "code",
      "source": [
        "arr_I = np.eye(3)\n",
        "arr_I # 대각선으로 1"
      ],
      "metadata": {
        "colab": {
          "base_uri": "https://localhost:8080/"
        },
        "id": "6LWDyIo3JJPV",
        "outputId": "028d6100-b2d1-4498-8480-cee12310210a"
      },
      "execution_count": 25,
      "outputs": [
        {
          "output_type": "execute_result",
          "data": {
            "text/plain": [
              "array([[1., 0., 0.],\n",
              "       [0., 1., 0.],\n",
              "       [0., 0., 1.]])"
            ]
          },
          "metadata": {},
          "execution_count": 25
        }
      ]
    },
    {
      "cell_type": "code",
      "source": [
        "np.array(['1.5','0.62'])"
      ],
      "metadata": {
        "colab": {
          "base_uri": "https://localhost:8080/"
        },
        "id": "HbhjzaSKJn4B",
        "outputId": "ec981a45-40d1-4559-901d-287b5b1ca8fa"
      },
      "execution_count": 26,
      "outputs": [
        {
          "output_type": "execute_result",
          "data": {
            "text/plain": [
              "array(['1.5', '0.62'], dtype='<U4')"
            ]
          },
          "metadata": {},
          "execution_count": 26
        }
      ]
    },
    {
      "cell_type": "code",
      "source": [
        "# astype() 데이터 형 변환 시 사용\n",
        "arr = np.array(['1.5', '0.62'])\n",
        "num_arr = arr.astype(float)\n",
        "num_arr.dtype"
      ],
      "metadata": {
        "colab": {
          "base_uri": "https://localhost:8080/"
        },
        "id": "3H-1A5cgJ7xu",
        "outputId": "b348514d-8555-4aa4-e87b-1c52e38ab982"
      },
      "execution_count": 27,
      "outputs": [
        {
          "output_type": "execute_result",
          "data": {
            "text/plain": [
              "dtype('float64')"
            ]
          },
          "metadata": {},
          "execution_count": 27
        }
      ]
    },
    {
      "cell_type": "code",
      "source": [
        "num_f1 = np.array([10,21,0.549, 4.75, 5.98])\n",
        "num_f1 = num_f1.astype(int)\n",
        "num_f1  # int 형태는 값이 유실 됨"
      ],
      "metadata": {
        "colab": {
          "base_uri": "https://localhost:8080/"
        },
        "id": "8X9rHj1RLzlT",
        "outputId": "25f66b3d-831a-417f-f717-27812120de04"
      },
      "execution_count": 28,
      "outputs": [
        {
          "output_type": "execute_result",
          "data": {
            "text/plain": [
              "array([10, 21,  0,  4,  5])"
            ]
          },
          "metadata": {},
          "execution_count": 28
        }
      ]
    },
    {
      "cell_type": "markdown",
      "source": [
        "## 난수 무작위, p.224\n",
        "무작위로 숫자를 추출"
      ],
      "metadata": {
        "id": "RBIvT2wqMQ-l"
      }
    },
    {
      "cell_type": "code",
      "source": [
        "np.random.rand(2,3) # 0에서 1사이에 실수 난수를 가짐\n",
        "# 괄호 안은 배열의 범위가 아니라 배열의 크기"
      ],
      "metadata": {
        "colab": {
          "base_uri": "https://localhost:8080/"
        },
        "id": "8-ada4P3MNgX",
        "outputId": "da50b2a4-b820-423a-e8f1-b3cccd8f4218"
      },
      "execution_count": 29,
      "outputs": [
        {
          "output_type": "execute_result",
          "data": {
            "text/plain": [
              "array([[0.57633547, 0.03169943, 0.85231129],\n",
              "       [0.09635897, 0.22000725, 0.61063619]])"
            ]
          },
          "metadata": {},
          "execution_count": 29
        }
      ]
    },
    {
      "cell_type": "code",
      "source": [
        "np.random.randint(2,10) # 범위를 주고 그 사이에 랜덤 숫자 생성"
      ],
      "metadata": {
        "colab": {
          "base_uri": "https://localhost:8080/"
        },
        "id": "ppwmXvLmMlK4",
        "outputId": "e7e4d4db-dc49-41f9-f9c8-a3b903f48b46"
      },
      "execution_count": 30,
      "outputs": [
        {
          "output_type": "execute_result",
          "data": {
            "text/plain": [
              "8"
            ]
          },
          "metadata": {},
          "execution_count": 30
        }
      ]
    },
    {
      "cell_type": "code",
      "source": [
        "np.random.randint(1,100,10)"
      ],
      "metadata": {
        "colab": {
          "base_uri": "https://localhost:8080/"
        },
        "id": "od6h2SCwMudR",
        "outputId": "232c7278-a224-4c80-a6e0-85747403c1b8"
      },
      "execution_count": 31,
      "outputs": [
        {
          "output_type": "execute_result",
          "data": {
            "text/plain": [
              "array([25, 64, 64, 53, 36, 34, 47, 60, 86, 70])"
            ]
          },
          "metadata": {},
          "execution_count": 31
        }
      ]
    },
    {
      "cell_type": "code",
      "source": [
        "# 복권 숫자 자판기 (랜덤하나 중복되지 않을 것)\n",
        "numbers = np.arange(101)\n",
        "\n",
        "numbers = np.random.choice(numbers, size = 7, replace = False)\n",
        "print(numbers)\n"
      ],
      "metadata": {
        "colab": {
          "base_uri": "https://localhost:8080/"
        },
        "id": "XEta_sF2mIXb",
        "outputId": "549ba088-4de5-45ba-ad22-90fbf3b8962f"
      },
      "execution_count": 38,
      "outputs": [
        {
          "output_type": "stream",
          "name": "stdout",
          "text": [
            "[96 74 90 54  5  6 73]\n"
          ]
        }
      ]
    },
    {
      "cell_type": "markdown",
      "source": [
        "numpy.random.choice 함수는 주어진 배열 또는 정수 중에서 무작위로 샘플을 추출하는 데 사용됩니다. 이 함수는 다음과 같은 형식을 가지고 있습니다:\n",
        "\n",
        "\n",
        "code : numpy.random.choice(a, size=None, replace=True, p=None)\n",
        "여기서 각 매개변수는 다음을 의미합니다:\n",
        "\n",
        "a: 샘플링할 배열 또는 정수. 배열이면 배열의 원소 중에서, 정수이면 0부터 그 정수까지의 범위에서 샘플링됩니다.\n",
        "\n",
        "size: 샘플의 크기를 지정합니다. 기본값은 None으로, 하나의 샘플을 반환합니다.\n",
        "\n",
        "replace: 기본값은 True이며, True로 설정하면 같은 원소를 여러 번 샘플링할 수 있습니다. False로 설정하면 중복이 허용되지 않아서 배열의 길이보다 큰 샘플 크기를 요청하면 오류가 발생합니다.\n",
        "\n",
        "p: 각 원소가 선택될 확률을 나타내는 선택 확률 배열입니다. 선택되지 않으면 모든 원소가 동일한 확률로 선택됩니다."
      ],
      "metadata": {
        "id": "M3kBtLMxpH2M"
      }
    },
    {
      "cell_type": "markdown",
      "source": [
        "## 배열의 연산 , p.225\n"
      ],
      "metadata": {
        "id": "b3pnKOEPvSaX"
      }
    },
    {
      "cell_type": "code",
      "source": [
        "arr1 = np.array([10,20,30,40])\n",
        "arr2 = np.array([1,2,3,4])\n",
        "\n",
        "print(arr1 + arr2)  # 덧셈\n",
        "print(arr1 - arr2)  # 뺄셈\n",
        "print(arr1 * arr2)  # 곱셈\n",
        "print(arr1 / arr2)  # 나눗셈\n"
      ],
      "metadata": {
        "colab": {
          "base_uri": "https://localhost:8080/"
        },
        "id": "8gcoWQSYvY7D",
        "outputId": "7890565a-6114-463f-afed-57b528412679"
      },
      "execution_count": 39,
      "outputs": [
        {
          "output_type": "stream",
          "name": "stdout",
          "text": [
            "[11 22 33 44]\n",
            "[ 9 18 27 36]\n",
            "[ 10  40  90 160]\n",
            "[10. 10. 10. 10.]\n"
          ]
        }
      ]
    },
    {
      "cell_type": "markdown",
      "source": [
        "### 비교 연산"
      ],
      "metadata": {
        "id": "0ndzyeyav1vR"
      }
    },
    {
      "cell_type": "code",
      "source": [
        "arr1 > 20"
      ],
      "metadata": {
        "colab": {
          "base_uri": "https://localhost:8080/"
        },
        "id": "igDJbUVyv6RP",
        "outputId": "dfbdb546-f934-4b32-a6e5-48ae6e884d57"
      },
      "execution_count": 40,
      "outputs": [
        {
          "output_type": "execute_result",
          "data": {
            "text/plain": [
              "array([False, False,  True,  True])"
            ]
          },
          "metadata": {},
          "execution_count": 40
        }
      ]
    },
    {
      "cell_type": "markdown",
      "source": [
        "### 통계 연산\n",
        "Numpy, 합, 평균, 표준 편차, 분산, 최솟값, 최댓값, 누적합, 누적곱 메서드가 존재한다. -> 기술 통계량\n",
        "\n",
        "통계 : 평균이 전부\n",
        "- 모수 통계\n",
        "- 비모수 통계\n",
        "- 베이지안 통계"
      ],
      "metadata": {
        "id": "41wNv-TTwOQE"
      }
    },
    {
      "cell_type": "code",
      "source": [
        "arr3 = np.arange(5)\n",
        "arr3"
      ],
      "metadata": {
        "colab": {
          "base_uri": "https://localhost:8080/"
        },
        "id": "EoED_2Q-xr5X",
        "outputId": "cac2606b-4881-4264-8c92-6b441e156af1"
      },
      "execution_count": 41,
      "outputs": [
        {
          "output_type": "execute_result",
          "data": {
            "text/plain": [
              "array([0, 1, 2, 3, 4])"
            ]
          },
          "metadata": {},
          "execution_count": 41
        }
      ]
    },
    {
      "cell_type": "code",
      "source": [
        "print(arr3.sum())\n",
        "print(arr3.mean())\n",
        "print(arr3.std())  # 표준편차\n",
        "print(arr3.var()) # 분산"
      ],
      "metadata": {
        "colab": {
          "base_uri": "https://localhost:8080/"
        },
        "id": "l4yo--kYxxq5",
        "outputId": "443a5a17-e148-4592-bd81-4b55b420bc6c"
      },
      "execution_count": 44,
      "outputs": [
        {
          "output_type": "stream",
          "name": "stdout",
          "text": [
            "10\n",
            "2.0\n",
            "1.4142135623730951\n",
            "2.0\n"
          ]
        }
      ]
    },
    {
      "cell_type": "markdown",
      "source": [
        "### 누적합과 누적곱\n",
        "cumsum() : 누적합\n",
        "\n",
        "cumprod() : 누적곱"
      ],
      "metadata": {
        "id": "hwmvfhBq0VBr"
      }
    },
    {
      "cell_type": "code",
      "source": [
        "arr4 = np.arange(1,5)\n",
        "print(arr4.cumsum())\n",
        "print(arr4.cumprod())"
      ],
      "metadata": {
        "colab": {
          "base_uri": "https://localhost:8080/"
        },
        "id": "-1vAOBi90U1o",
        "outputId": "2ff04eb1-c853-4990-8e96-1244217500e0"
      },
      "execution_count": 47,
      "outputs": [
        {
          "output_type": "stream",
          "name": "stdout",
          "text": [
            "[ 1  3  6 10]\n",
            "[ 1  2  6 24]\n"
          ]
        }
      ]
    },
    {
      "cell_type": "markdown",
      "source": [
        "### 행렬 연산\n",
        "선형 대수(linear algebra)를 위한 2차원 배열 연산도 지원\n",
        "\n",
        "p.229, 행렬곱, 전치행렬, 역행렬, 행렬식 사용 예시"
      ],
      "metadata": {
        "id": "MpNP9Tao1wII"
      }
    },
    {
      "cell_type": "code",
      "source": [
        "A = np.array([0,1,2,3]).reshape(2,2)\n",
        "B = np.array([3,2,0,1]).reshape(2,2)\n",
        "print(A)\n",
        "print(B)\n",
        "\n",
        "A.dot(B)"
      ],
      "metadata": {
        "colab": {
          "base_uri": "https://localhost:8080/"
        },
        "id": "OTMCp1hy2WeN",
        "outputId": "7ebc4ea4-b492-441a-8a63-1b49acf14c07"
      },
      "execution_count": 53,
      "outputs": [
        {
          "output_type": "stream",
          "name": "stdout",
          "text": [
            "[[0 1]\n",
            " [2 3]]\n",
            "[[3 2]\n",
            " [0 1]]\n"
          ]
        },
        {
          "output_type": "execute_result",
          "data": {
            "text/plain": [
              "array([[0, 1],\n",
              "       [6, 7]])"
            ]
          },
          "metadata": {},
          "execution_count": 53
        }
      ]
    },
    {
      "cell_type": "code",
      "source": [
        "print(A.transpose()) #전치 행렬\n",
        "np.linalg.inv(A) #역행렬"
      ],
      "metadata": {
        "colab": {
          "base_uri": "https://localhost:8080/"
        },
        "id": "Kcnwq1Ub7lxv",
        "outputId": "9df1f479-5ba5-4f52-d40f-bc636ec31a6d"
      },
      "execution_count": 55,
      "outputs": [
        {
          "output_type": "stream",
          "name": "stdout",
          "text": [
            "[[0 2]\n",
            " [1 3]]\n"
          ]
        },
        {
          "output_type": "execute_result",
          "data": {
            "text/plain": [
              "array([[-1.5,  0.5],\n",
              "       [ 1. ,  0. ]])"
            ]
          },
          "metadata": {},
          "execution_count": 55
        }
      ]
    },
    {
      "cell_type": "markdown",
      "source": [
        "## 배열의 인덱싱과 슬라이싱 , p.230\n",
        "string, list, tuple과 동일한 방법으로 접근"
      ],
      "metadata": {
        "id": "T83ppxSW8S8c"
      }
    },
    {
      "cell_type": "code",
      "source": [
        "a1 = np.array([0,10,20,30,40,50])\n",
        "\n",
        "# 50을 70으로 변경하고 싶음\n",
        "a1[5] = 70\n",
        "a1"
      ],
      "metadata": {
        "colab": {
          "base_uri": "https://localhost:8080/"
        },
        "id": "5l0b1r3a8ZiP",
        "outputId": "d65e2e47-647a-4f61-cfda-d065fd193aaa"
      },
      "execution_count": 58,
      "outputs": [
        {
          "output_type": "execute_result",
          "data": {
            "text/plain": [
              "array([ 0, 10, 20, 30, 40, 70])"
            ]
          },
          "metadata": {},
          "execution_count": 58
        }
      ]
    },
    {
      "cell_type": "code",
      "source": [
        "# 리스트 통해서 추출, 인덱스 위치를 리스트화해 추출\n",
        "a1[[0,2,4]]"
      ],
      "metadata": {
        "colab": {
          "base_uri": "https://localhost:8080/"
        },
        "id": "KwYrw3jy9B_G",
        "outputId": "56b6b895-ba4c-4d4b-b8b2-9c46f00fd2b7"
      },
      "execution_count": 60,
      "outputs": [
        {
          "output_type": "execute_result",
          "data": {
            "text/plain": [
              "array([ 0, 20, 40])"
            ]
          },
          "metadata": {},
          "execution_count": 60
        }
      ]
    },
    {
      "cell_type": "code",
      "source": [
        "a2 = np.arange(10,100,10).reshape(3,3)\n",
        "a2"
      ],
      "metadata": {
        "colab": {
          "base_uri": "https://localhost:8080/"
        },
        "id": "9wY5Gtdn9U0B",
        "outputId": "00d6dead-e72f-41a5-c066-dd95c3693980"
      },
      "execution_count": 61,
      "outputs": [
        {
          "output_type": "execute_result",
          "data": {
            "text/plain": [
              "array([[10, 20, 30],\n",
              "       [40, 50, 60],\n",
              "       [70, 80, 90]])"
            ]
          },
          "metadata": {},
          "execution_count": 61
        }
      ]
    },
    {
      "cell_type": "code",
      "source": [
        "print(a2[2,2]) #2열2행\n",
        "print(a2[1,1]) #1열1행"
      ],
      "metadata": {
        "colab": {
          "base_uri": "https://localhost:8080/"
        },
        "id": "vfhuMJBr-qNZ",
        "outputId": "5267782d-45f3-498e-fa58-1149a7d8922e"
      },
      "execution_count": 63,
      "outputs": [
        {
          "output_type": "stream",
          "name": "stdout",
          "text": [
            "90\n",
            "50\n"
          ]
        }
      ]
    },
    {
      "cell_type": "code",
      "source": [
        "# 90을 95로 변경\n",
        "a2[2,2] = 95\n",
        "a2[0] = [1,2,3] #리스트 형태로 삽입해도 에러 발생X\n",
        "print(a2)\n",
        "\n",
        "a2[0] = [1,2,3,4]\n",
        "print(a2)"
      ],
      "metadata": {
        "colab": {
          "base_uri": "https://localhost:8080/",
          "height": 276
        },
        "id": "9LpKncyl_Rgv",
        "outputId": "8dfa263c-909a-4a4a-b8d1-77c8a6ab51d8"
      },
      "execution_count": 66,
      "outputs": [
        {
          "output_type": "stream",
          "name": "stdout",
          "text": [
            "[[ 1  2  3]\n",
            " [40 50 60]\n",
            " [70 80 95]]\n"
          ]
        },
        {
          "output_type": "error",
          "ename": "ValueError",
          "evalue": "ignored",
          "traceback": [
            "\u001b[0;31m---------------------------------------------------------------------------\u001b[0m",
            "\u001b[0;31mValueError\u001b[0m                                Traceback (most recent call last)",
            "\u001b[0;32m<ipython-input-66-1caaea6b09cb>\u001b[0m in \u001b[0;36m<cell line: 6>\u001b[0;34m()\u001b[0m\n\u001b[1;32m      4\u001b[0m \u001b[0mprint\u001b[0m\u001b[0;34m(\u001b[0m\u001b[0ma2\u001b[0m\u001b[0;34m)\u001b[0m\u001b[0;34m\u001b[0m\u001b[0;34m\u001b[0m\u001b[0m\n\u001b[1;32m      5\u001b[0m \u001b[0;34m\u001b[0m\u001b[0m\n\u001b[0;32m----> 6\u001b[0;31m \u001b[0ma2\u001b[0m\u001b[0;34m[\u001b[0m\u001b[0;36m0\u001b[0m\u001b[0;34m]\u001b[0m \u001b[0;34m=\u001b[0m \u001b[0;34m[\u001b[0m\u001b[0;36m1\u001b[0m\u001b[0;34m,\u001b[0m\u001b[0;36m2\u001b[0m\u001b[0;34m,\u001b[0m\u001b[0;36m3\u001b[0m\u001b[0;34m,\u001b[0m\u001b[0;36m4\u001b[0m\u001b[0;34m]\u001b[0m\u001b[0;34m\u001b[0m\u001b[0;34m\u001b[0m\u001b[0m\n\u001b[0m\u001b[1;32m      7\u001b[0m \u001b[0mprint\u001b[0m\u001b[0;34m(\u001b[0m\u001b[0ma2\u001b[0m\u001b[0;34m)\u001b[0m\u001b[0;34m\u001b[0m\u001b[0;34m\u001b[0m\u001b[0m\n",
            "\u001b[0;31mValueError\u001b[0m: could not broadcast input array from shape (4,) into shape (3,)"
          ]
        }
      ]
    },
    {
      "cell_type": "code",
      "source": [
        "a2[0] = np.array([4,5,6,7])\n",
        "a2"
      ],
      "metadata": {
        "colab": {
          "base_uri": "https://localhost:8080/",
          "height": 191
        },
        "id": "IqaAlU94AsvO",
        "outputId": "8a831fe4-764c-453b-8287-5f423c501ada"
      },
      "execution_count": 68,
      "outputs": [
        {
          "output_type": "error",
          "ename": "ValueError",
          "evalue": "ignored",
          "traceback": [
            "\u001b[0;31m---------------------------------------------------------------------------\u001b[0m",
            "\u001b[0;31mValueError\u001b[0m                                Traceback (most recent call last)",
            "\u001b[0;32m<ipython-input-68-90d2602d7d1e>\u001b[0m in \u001b[0;36m<cell line: 1>\u001b[0;34m()\u001b[0m\n\u001b[0;32m----> 1\u001b[0;31m \u001b[0ma2\u001b[0m\u001b[0;34m[\u001b[0m\u001b[0;36m0\u001b[0m\u001b[0;34m]\u001b[0m \u001b[0;34m=\u001b[0m \u001b[0mnp\u001b[0m\u001b[0;34m.\u001b[0m\u001b[0marray\u001b[0m\u001b[0;34m(\u001b[0m\u001b[0;34m[\u001b[0m\u001b[0;36m4\u001b[0m\u001b[0;34m,\u001b[0m\u001b[0;36m5\u001b[0m\u001b[0;34m,\u001b[0m\u001b[0;36m6\u001b[0m\u001b[0;34m,\u001b[0m\u001b[0;36m7\u001b[0m\u001b[0;34m]\u001b[0m\u001b[0;34m)\u001b[0m\u001b[0;34m\u001b[0m\u001b[0;34m\u001b[0m\u001b[0m\n\u001b[0m\u001b[1;32m      2\u001b[0m \u001b[0ma2\u001b[0m\u001b[0;34m\u001b[0m\u001b[0;34m\u001b[0m\u001b[0m\n",
            "\u001b[0;31mValueError\u001b[0m: could not broadcast input array from shape (4,) into shape (3,)"
          ]
        }
      ]
    },
    {
      "cell_type": "markdown",
      "source": [
        "2차원 배열의 행과 열 위치 지정해서 원소 추출\n",
        "\n",
        "  +(행의 위치1, 열의 위치1)(행의 위치2, 열의 위치2)\n",
        "\n"
      ],
      "metadata": {
        "id": "Qk0d1NpcBJv9"
      }
    },
    {
      "cell_type": "code",
      "source": [
        "a2[0] = [4,5,6]\n",
        "print(a2)\n",
        "print(a2[[0,2],[0,1]]) # a2[0,0], a2[2,1]로 계산됨\n",
        "print(a2[0,2], a2[0,1]) #0행2열, 0행1열\n"
      ],
      "metadata": {
        "colab": {
          "base_uri": "https://localhost:8080/"
        },
        "id": "yeDPzoz1BN7D",
        "outputId": "ef95ef12-a62e-4c93-fe8a-98236c6d780d"
      },
      "execution_count": 74,
      "outputs": [
        {
          "output_type": "stream",
          "name": "stdout",
          "text": [
            "[[ 4  5  6]\n",
            " [40 50 60]\n",
            " [70 80 95]]\n",
            "[ 4 80]\n",
            "6 5\n"
          ]
        }
      ]
    },
    {
      "cell_type": "markdown",
      "source": [
        "## 배열 조건문\n",
        "pandas 문법과 유사"
      ],
      "metadata": {
        "id": "XkOpMuToC-Dy"
      }
    },
    {
      "cell_type": "code",
      "source": [
        "a = np.array([1,2,3,4,5,6])\n",
        "a"
      ],
      "metadata": {
        "colab": {
          "base_uri": "https://localhost:8080/"
        },
        "id": "iJtF-y4vDCES",
        "outputId": "00da920e-0e21-4b1e-b57c-70365e19219b"
      },
      "execution_count": 75,
      "outputs": [
        {
          "output_type": "execute_result",
          "data": {
            "text/plain": [
              "array([1, 2, 3, 4, 5, 6])"
            ]
          },
          "metadata": {},
          "execution_count": 75
        }
      ]
    },
    {
      "cell_type": "code",
      "source": [
        "a[a>3]"
      ],
      "metadata": {
        "colab": {
          "base_uri": "https://localhost:8080/"
        },
        "id": "FGmBRbLuDGew",
        "outputId": "47bfe737-ee61-43cb-bb9d-683178144ac0"
      },
      "execution_count": 78,
      "outputs": [
        {
          "output_type": "execute_result",
          "data": {
            "text/plain": [
              "array([4, 5, 6])"
            ]
          },
          "metadata": {},
          "execution_count": 78
        }
      ]
    },
    {
      "cell_type": "code",
      "source": [
        "a % 2 == 0"
      ],
      "metadata": {
        "colab": {
          "base_uri": "https://localhost:8080/"
        },
        "id": "RnqX2-18D7Tm",
        "outputId": "7a7426c5-903a-4e0a-91da-1eb037009f54"
      },
      "execution_count": 79,
      "outputs": [
        {
          "output_type": "execute_result",
          "data": {
            "text/plain": [
              "array([False,  True, False,  True, False,  True])"
            ]
          },
          "metadata": {},
          "execution_count": 79
        }
      ]
    },
    {
      "cell_type": "markdown",
      "source": [
        "### 배열의 슬라이싱, p.234\n",
        "슬라이싱을 이용해 다양하게 데이터를 추출 가능"
      ],
      "metadata": {
        "id": "b2nzTUIDIP4g"
      }
    },
    {
      "cell_type": "code",
      "source": [
        "b1 = np.array([0,1,2,3,4,5])\n",
        "b1[1:4]"
      ],
      "metadata": {
        "colab": {
          "base_uri": "https://localhost:8080/"
        },
        "id": "IRHjnnvbIS7T",
        "outputId": "2b4ffb0d-07c6-45e3-eb99-e5acaea7a408"
      },
      "execution_count": 80,
      "outputs": [
        {
          "output_type": "execute_result",
          "data": {
            "text/plain": [
              "array([1, 2, 3])"
            ]
          },
          "metadata": {},
          "execution_count": 80
        }
      ]
    },
    {
      "cell_type": "code",
      "source": [
        "print(b1[:3])\n",
        "print(b1[2:])\n",
        "print(b1[0:4:2])"
      ],
      "metadata": {
        "colab": {
          "base_uri": "https://localhost:8080/"
        },
        "id": "9EMQnzXXIt50",
        "outputId": "6f75ba2c-279f-4725-8d6d-50a9977dc952"
      },
      "execution_count": 83,
      "outputs": [
        {
          "output_type": "stream",
          "name": "stdout",
          "text": [
            "[0 1 2]\n",
            "[2 3 4 5]\n",
            "[0 2]\n"
          ]
        }
      ]
    },
    {
      "cell_type": "code",
      "source": [
        "b1[2:5] = np.array([25,35,45])\n",
        "print(b1)\n",
        "\n",
        "b1[3:6] = 60\n",
        "print(b1)"
      ],
      "metadata": {
        "colab": {
          "base_uri": "https://localhost:8080/"
        },
        "id": "l3urfHtDI_N-",
        "outputId": "b149b925-7cea-468d-94b7-801f52fab864"
      },
      "execution_count": 85,
      "outputs": [
        {
          "output_type": "stream",
          "name": "stdout",
          "text": [
            "[ 0  1 25 35 45  5]\n",
            "[ 0  1 25 60 60 60]\n"
          ]
        }
      ]
    },
    {
      "cell_type": "code",
      "source": [
        "b2 = np.arange(10,100,10).reshape(3,3)\n",
        "print(b2)\n",
        "\n",
        "print(b2[1:3,1:3])  #1행의 3열까지, 또 1행아래의 3열까지\n",
        "print(b2[1:, 1:])"
      ],
      "metadata": {
        "colab": {
          "base_uri": "https://localhost:8080/"
        },
        "id": "1WnDhB8WJ1Dz",
        "outputId": "005317c7-1f06-484f-8014-241e77e543cd"
      },
      "execution_count": 88,
      "outputs": [
        {
          "output_type": "stream",
          "name": "stdout",
          "text": [
            "[[10 20 30]\n",
            " [40 50 60]\n",
            " [70 80 90]]\n",
            "[[50 60]\n",
            " [80 90]]\n",
            "[[50 60]\n",
            " [80 90]]\n"
          ]
        }
      ]
    },
    {
      "cell_type": "code",
      "source": [
        "print(b2[1])\n",
        "print(b2[1][1:3]) #중첩가능"
      ],
      "metadata": {
        "colab": {
          "base_uri": "https://localhost:8080/"
        },
        "id": "0_mu16vjKaSN",
        "outputId": "11ab9af2-f95d-4cac-a96b-1d12d170f608"
      },
      "execution_count": 92,
      "outputs": [
        {
          "output_type": "stream",
          "name": "stdout",
          "text": [
            "[40 50 60]\n",
            "[50 60]\n"
          ]
        }
      ]
    },
    {
      "cell_type": "markdown",
      "source": [
        "## Numpy 조건문\n",
        "np.where : 단일 조건문\n",
        "\n",
        "np.select : 다중 조건문"
      ],
      "metadata": {
        "id": "iD4ccOs7Nkv4"
      }
    },
    {
      "cell_type": "code",
      "source": [
        "arr = np.arange(10)\n",
        "arr"
      ],
      "metadata": {
        "colab": {
          "base_uri": "https://localhost:8080/"
        },
        "id": "YtLM2uqqNv6Z",
        "outputId": "9fe7ec09-d3dc-40b7-a096-a4d2090f7fe9"
      },
      "execution_count": 93,
      "outputs": [
        {
          "output_type": "execute_result",
          "data": {
            "text/plain": [
              "array([0, 1, 2, 3, 4, 5, 6, 7, 8, 9])"
            ]
          },
          "metadata": {},
          "execution_count": 93
        }
      ]
    },
    {
      "cell_type": "code",
      "source": [
        "# 0, 1, 2, 3, 4, 50, 60, 70, 80, 90을 생성\n",
        "np.where(arr < 5, arr, arr * 10)"
      ],
      "metadata": {
        "colab": {
          "base_uri": "https://localhost:8080/"
        },
        "id": "-YAKdvqWN20V",
        "outputId": "2d937819-987d-42de-9790-d8b5a274c912"
      },
      "execution_count": 94,
      "outputs": [
        {
          "output_type": "execute_result",
          "data": {
            "text/plain": [
              "array([ 0,  1,  2,  3,  4, 50, 60, 70, 80, 90])"
            ]
          },
          "metadata": {},
          "execution_count": 94
        }
      ]
    },
    {
      "cell_type": "code",
      "source": [
        "arr = np.arange(10)\n",
        "arr"
      ],
      "metadata": {
        "colab": {
          "base_uri": "https://localhost:8080/"
        },
        "id": "iqC8_X7ZOLsv",
        "outputId": "74e997ab-9e89-4bbd-8070-394c85139e01"
      },
      "execution_count": 95,
      "outputs": [
        {
          "output_type": "execute_result",
          "data": {
            "text/plain": [
              "array([0, 1, 2, 3, 4, 5, 6, 7, 8, 9])"
            ]
          },
          "metadata": {},
          "execution_count": 95
        }
      ]
    },
    {
      "cell_type": "code",
      "source": [
        "# 100,101, 2,3,4,5, 12, 14,16, 18\n",
        "# 2미만일 경우 100을 더하고 5초과 9이하는 곱하기 2\n",
        "# 조건식과 대응되는 결과를 리스트로 생성\n",
        "\n",
        "cond_list = [arr >5, arr <2]\n",
        "choice_list = [arr *2, arr + 100]\n",
        "\n",
        "np.select(cond_list, choice_list, default = arr)"
      ],
      "metadata": {
        "colab": {
          "base_uri": "https://localhost:8080/"
        },
        "id": "RqRsaM7kOPYr",
        "outputId": "b72a1fd0-a0ad-4e66-aaa3-4e661ebec3a7"
      },
      "execution_count": 97,
      "outputs": [
        {
          "output_type": "execute_result",
          "data": {
            "text/plain": [
              "array([100, 101,   2,   3,   4,   5,  12,  14,  16,  18])"
            ]
          },
          "metadata": {},
          "execution_count": 97
        }
      ]
    },
    {
      "cell_type": "markdown",
      "source": [
        "## Numpy 수치연산\n",
        "가장 기초적인 라이브러리\n",
        "\n"
      ],
      "metadata": {
        "id": "G4tOQPujRVpk"
      }
    }
  ]
}