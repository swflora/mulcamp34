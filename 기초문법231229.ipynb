{
  "nbformat": 4,
  "nbformat_minor": 0,
  "metadata": {
    "colab": {
      "provenance": [],
      "authorship_tag": "ABX9TyMFYfXW7mjRoys1S/5DBhOP",
      "include_colab_link": true
    },
    "kernelspec": {
      "name": "python3",
      "display_name": "Python 3"
    },
    "language_info": {
      "name": "python"
    }
  },
  "cells": [
    {
      "cell_type": "markdown",
      "metadata": {
        "id": "view-in-github",
        "colab_type": "text"
      },
      "source": [
        "<a href=\"https://colab.research.google.com/github/swflora/mulcamp34/blob/main/%EA%B8%B0%EC%B4%88%EB%AC%B8%EB%B2%95231229.ipynb\" target=\"_parent\"><img src=\"https://colab.research.google.com/assets/colab-badge.svg\" alt=\"Open In Colab\"/></a>"
      ]
    },
    {
      "cell_type": "markdown",
      "source": [
        "# 딕셔너리 (Dictionary) : 사전\n",
        "구성 : key-vaule, keyword(=key), 결과값(=value)\n",
        "\n",
        "문자열, 리스트, 튜플 : 데이터 조회 시, 인덱싱 또는 슬라이싱 활용\n",
        "\n",
        "딕셔너리에선 key값을 통해 데이터 조회\n",
        "\n",
        "주의 : key값은 중복으로 만들 수 없음"
      ],
      "metadata": {
        "id": "s0OEiCtR7o9c"
      }
    },
    {
      "cell_type": "code",
      "execution_count": 36,
      "metadata": {
        "colab": {
          "base_uri": "https://localhost:8080/"
        },
        "id": "MAkleWtQ6yr6",
        "outputId": "74447caa-c647-48bd-9cec-3316d1682645"
      },
      "outputs": [
        {
          "output_type": "execute_result",
          "data": {
            "text/plain": [
              "{'대한민국': '서울', '프랑스': '파리', '미국': '워싱턴DC', '영국': '런던'}"
            ]
          },
          "metadata": {},
          "execution_count": 36
        }
      ],
      "source": [
        "# 나라-수도 이름\n",
        "country_captital = {\n",
        "    \"대한민국\" : \"서울\",\n",
        "    \"프랑스\" : \"파리\",\n",
        "    \"미국\" : \"워싱턴DC\",\n",
        "    \"영국\" : \"런던\"\n",
        "}\n",
        "\n",
        "country_captital"
      ]
    },
    {
      "cell_type": "code",
      "source": [
        "#딕셔너리에서 value값을 조회하는 방법 : key\n",
        "\n",
        "country_captital['대한민국']"
      ],
      "metadata": {
        "colab": {
          "base_uri": "https://localhost:8080/",
          "height": 35
        },
        "id": "8b6w0pgU9vIx",
        "outputId": "b8358649-6b40-4e67-83a5-30cb8974f831"
      },
      "execution_count": 37,
      "outputs": [
        {
          "output_type": "execute_result",
          "data": {
            "text/plain": [
              "'서울'"
            ],
            "application/vnd.google.colaboratory.intrinsic+json": {
              "type": "string"
            }
          },
          "metadata": {},
          "execution_count": 37
        }
      ]
    },
    {
      "cell_type": "code",
      "source": [
        "data = {1: 'bus', 3 : 'airplane'}\n",
        "\n",
        "data[1] # index 번호가 아닌 key 값"
      ],
      "metadata": {
        "colab": {
          "base_uri": "https://localhost:8080/",
          "height": 35
        },
        "id": "d90zAbHZ-ggu",
        "outputId": "1b367176-69c6-4d29-afba-5c35ea3e4f72"
      },
      "execution_count": 38,
      "outputs": [
        {
          "output_type": "execute_result",
          "data": {
            "text/plain": [
              "'bus'"
            ],
            "application/vnd.google.colaboratory.intrinsic+json": {
              "type": "string"
            }
          },
          "metadata": {},
          "execution_count": 38
        }
      ]
    },
    {
      "cell_type": "code",
      "source": [
        "data_list = {'list1' : [1,2,3], 'list2' : [4,5,6], 1 : 'test'}\n",
        "data_list # 여러 자료형을 함께 저장할 수 있음"
      ],
      "metadata": {
        "colab": {
          "base_uri": "https://localhost:8080/"
        },
        "id": "JqLT1d6A_FXu",
        "outputId": "30619029-e6ff-4813-d3d5-4cde49aaa2da"
      },
      "execution_count": 39,
      "outputs": [
        {
          "output_type": "execute_result",
          "data": {
            "text/plain": [
              "{'list1': [1, 2, 3], 'list2': [4, 5, 6], 1: 'test'}"
            ]
          },
          "metadata": {},
          "execution_count": 39
        }
      ]
    },
    {
      "cell_type": "markdown",
      "source": [
        "## 딕셔너리 사용처\n",
        "데이터 분석 : 엑셀 테이블 데이터 가공, 임시 테이블 작성\n",
        "\n",
        "\n",
        "HTML, CSS, 인터넷 자료형 중 JSON 데이터 포맷 => 딕셔너리와 동일한 형태\n",
        "\n",
        "API 데이터 크롤링, 기본 자료형(JSON) ==> 딕셔너리 변환, 변환 후 데이터 가공\n"
      ],
      "metadata": {
        "id": "wxgJP9tLABHs"
      }
    },
    {
      "cell_type": "markdown",
      "source": [
        "## 딕셔너리 다루기\n",
        "딕셔너리의 value 값 수정"
      ],
      "metadata": {
        "id": "wlORkv_kGBDQ"
      }
    },
    {
      "cell_type": "code",
      "source": [
        "# 내가 좋아하는 도시 이름\n",
        "country_captital['대한민국'] = '부산'\n",
        "country_captital"
      ],
      "metadata": {
        "colab": {
          "base_uri": "https://localhost:8080/"
        },
        "id": "_PDl0THyGGne",
        "outputId": "b1f0baa6-e0d0-49ad-f9ab-fb6cf74cd93f"
      },
      "execution_count": 40,
      "outputs": [
        {
          "output_type": "execute_result",
          "data": {
            "text/plain": [
              "{'대한민국': '부산', '프랑스': '파리', '미국': '워싱턴DC', '영국': '런던'}"
            ]
          },
          "metadata": {},
          "execution_count": 40
        }
      ]
    },
    {
      "cell_type": "markdown",
      "source": [
        "딕셔너리값 삭제"
      ],
      "metadata": {
        "id": "8ajsCp5zGVf7"
      }
    },
    {
      "cell_type": "code",
      "source": [
        "del country_captital['영국']\n",
        "country_captital"
      ],
      "metadata": {
        "colab": {
          "base_uri": "https://localhost:8080/"
        },
        "id": "dYgoESnDGUKh",
        "outputId": "ef96e525-0c89-4cb7-bafe-1d57368b5b68"
      },
      "execution_count": 41,
      "outputs": [
        {
          "output_type": "execute_result",
          "data": {
            "text/plain": [
              "{'대한민국': '부산', '프랑스': '파리', '미국': '워싱턴DC'}"
            ]
          },
          "metadata": {},
          "execution_count": 41
        }
      ]
    },
    {
      "cell_type": "markdown",
      "source": [
        "원칙적으로 value값만 삭제하는 것은 불가능\n",
        "value를 none값으로 설정할 순 있음"
      ],
      "metadata": {
        "id": "8oHcOC5dHDvq"
      }
    },
    {
      "cell_type": "code",
      "source": [
        "country_captital['프랑스'] = None\n",
        "country_captital['일본'] = '도쿄'\n",
        "country_captital"
      ],
      "metadata": {
        "colab": {
          "base_uri": "https://localhost:8080/"
        },
        "id": "2-DA5av0G3Ka",
        "outputId": "d4e5797f-fb41-4602-c016-8099e9747e49"
      },
      "execution_count": 42,
      "outputs": [
        {
          "output_type": "execute_result",
          "data": {
            "text/plain": [
              "{'대한민국': '부산', '프랑스': None, '미국': '워싱턴DC', '일본': '도쿄'}"
            ]
          },
          "metadata": {},
          "execution_count": 42
        }
      ]
    },
    {
      "cell_type": "markdown",
      "source": [
        "## 딕셔너리 메서드"
      ],
      "metadata": {
        "id": "FCjpIriOHLf6"
      }
    },
    {
      "cell_type": "code",
      "source": [
        "print(type(country_captital)) # 딕셔너리 객체를 하나 만든 것\n",
        "# 딕셔너리가 보유한 클래스 메서드를 사용할 수 있음\n",
        "\n",
        "print(country_captital.keys()) # list 형태로 출력되지만 list는 아님\n",
        "print(type(country_captital.keys()))\n",
        "print(country_captital.items()) # tuple 형태로 출력\n",
        "print(type(country_captital.items())) # but tuple은 아님\n",
        "print(country_captital.values())"
      ],
      "metadata": {
        "colab": {
          "base_uri": "https://localhost:8080/"
        },
        "id": "rExxKwYZHYck",
        "outputId": "2f8b9010-0839-4018-9cd8-58ea51bc51c0"
      },
      "execution_count": 43,
      "outputs": [
        {
          "output_type": "stream",
          "name": "stdout",
          "text": [
            "<class 'dict'>\n",
            "dict_keys(['대한민국', '프랑스', '미국', '일본'])\n",
            "<class 'dict_keys'>\n",
            "dict_items([('대한민국', '부산'), ('프랑스', None), ('미국', '워싱턴DC'), ('일본', '도쿄')])\n",
            "<class 'dict_items'>\n",
            "dict_values(['부산', None, '워싱턴DC', '도쿄'])\n"
          ]
        }
      ]
    },
    {
      "cell_type": "code",
      "source": [
        "# list로 변환하고자 한다면\n",
        "# list(country_captital.keys())\n",
        "# list로 변환되면 수정/삭제가 가능하게 됨"
      ],
      "metadata": {
        "id": "zSJ8t53xI2G5"
      },
      "execution_count": 32,
      "outputs": []
    },
    {
      "cell_type": "code",
      "source": [
        "new_df = {\n",
        "    '중국' : '베이징',\n",
        "    '필리핀' :'마닐라',\n",
        "    '호주' : '캔버라'\n",
        "}\n",
        "\n",
        "country_captital.update(new_df)\n",
        "country_captital"
      ],
      "metadata": {
        "colab": {
          "base_uri": "https://localhost:8080/"
        },
        "id": "8bDDBbDBJTjR",
        "outputId": "54ed65d1-3913-4f72-9cb4-487ef6d951ef"
      },
      "execution_count": 44,
      "outputs": [
        {
          "output_type": "execute_result",
          "data": {
            "text/plain": [
              "{'대한민국': '부산',\n",
              " '프랑스': None,\n",
              " '미국': '워싱턴DC',\n",
              " '일본': '도쿄',\n",
              " '중국': '베이징',\n",
              " '필리핀': '마닐라',\n",
              " '호주': '캔버라'}"
            ]
          },
          "metadata": {},
          "execution_count": 44
        }
      ]
    },
    {
      "cell_type": "code",
      "source": [
        "# result = country_captital.keys()\n",
        "# result.append('독일')"
      ],
      "metadata": {
        "id": "Xcej-z2HKylS"
      },
      "execution_count": 33,
      "outputs": []
    },
    {
      "cell_type": "code",
      "source": [
        "result = list(country_captital.keys())\n",
        "result.append('독일')\n",
        "\n",
        "print(result)"
      ],
      "metadata": {
        "colab": {
          "base_uri": "https://localhost:8080/"
        },
        "id": "4TfC69B-K6jQ",
        "outputId": "a5d5b033-6ed7-4159-cb86-cdf070d8a960"
      },
      "execution_count": 45,
      "outputs": [
        {
          "output_type": "stream",
          "name": "stdout",
          "text": [
            "['대한민국', '프랑스', '미국', '일본', '중국', '필리핀', '호주', '독일']\n"
          ]
        }
      ]
    },
    {
      "cell_type": "code",
      "source": [
        "country_captital.clear()  # 빈 딕셔너리 생성\n",
        "country_captital"
      ],
      "metadata": {
        "colab": {
          "base_uri": "https://localhost:8080/"
        },
        "id": "-eBgWQ1aJsRm",
        "outputId": "8ef3eaec-ac97-4b6e-a87a-fcd0cf3ec1a8"
      },
      "execution_count": 26,
      "outputs": [
        {
          "output_type": "execute_result",
          "data": {
            "text/plain": [
              "{}"
            ]
          },
          "metadata": {},
          "execution_count": 26
        }
      ]
    },
    {
      "cell_type": "code",
      "source": [],
      "metadata": {
        "id": "WNb46LIgKv25"
      },
      "execution_count": null,
      "outputs": []
    }
  ]
}